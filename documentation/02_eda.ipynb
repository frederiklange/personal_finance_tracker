{
 "cells": [
  {
   "cell_type": "markdown",
   "metadata": {},
   "source": [
    "# 02. Exploratory Data Analysis"
   ]
  },
  {
   "cell_type": "markdown",
   "metadata": {},
   "source": [
    "Importing packages for EDA."
   ]
  },
  {
   "cell_type": "code",
   "execution_count": 77,
   "metadata": {},
   "outputs": [],
   "source": [
    "# Importing packages\n",
    "import pandas as pd\n",
    "import numpy as np\n",
    "\n",
    "# Importing plotting packages\n",
    "import plotly.express as px\n",
    "import plotly.graph_objects as go"
   ]
  },
  {
   "cell_type": "markdown",
   "metadata": {},
   "source": [
    "## Reading data"
   ]
  },
  {
   "cell_type": "code",
   "execution_count": 78,
   "metadata": {},
   "outputs": [],
   "source": [
    "# Loading data\n",
    "transactions_df = pd.read_csv(\"../data/clean/transactions_clean.csv\", encoding=\"ISO-8859-1\")"
   ]
  },
  {
   "cell_type": "code",
   "execution_count": 79,
   "metadata": {},
   "outputs": [
    {
     "data": {
      "text/html": [
       "<div>\n",
       "<style scoped>\n",
       "    .dataframe tbody tr th:only-of-type {\n",
       "        vertical-align: middle;\n",
       "    }\n",
       "\n",
       "    .dataframe tbody tr th {\n",
       "        vertical-align: top;\n",
       "    }\n",
       "\n",
       "    .dataframe thead th {\n",
       "        text-align: right;\n",
       "    }\n",
       "</style>\n",
       "<table border=\"1\" class=\"dataframe\">\n",
       "  <thead>\n",
       "    <tr style=\"text-align: right;\">\n",
       "      <th></th>\n",
       "      <th>Unnamed: 0</th>\n",
       "      <th>date</th>\n",
       "      <th>transaction_amount</th>\n",
       "      <th>text</th>\n",
       "      <th>year</th>\n",
       "      <th>month</th>\n",
       "      <th>expenditure</th>\n",
       "    </tr>\n",
       "  </thead>\n",
       "  <tbody>\n",
       "    <tr>\n",
       "      <th>0</th>\n",
       "      <td>0</td>\n",
       "      <td>2022-06-01</td>\n",
       "      <td>188.00</td>\n",
       "      <td>BS FITNESS WORLD A/S</td>\n",
       "      <td>2022</td>\n",
       "      <td>2022-Jun</td>\n",
       "      <td>1</td>\n",
       "    </tr>\n",
       "    <tr>\n",
       "      <th>1</th>\n",
       "      <td>1</td>\n",
       "      <td>2022-06-01</td>\n",
       "      <td>30.00</td>\n",
       "      <td>DK-NOTA  246 BYGST 407</td>\n",
       "      <td>2022</td>\n",
       "      <td>2022-Jun</td>\n",
       "      <td>1</td>\n",
       "    </tr>\n",
       "    <tr>\n",
       "      <th>2</th>\n",
       "      <td>2</td>\n",
       "      <td>2022-06-02</td>\n",
       "      <td>30.00</td>\n",
       "      <td>DK-NOTA  283 COOR KANTINE, 407</td>\n",
       "      <td>2022</td>\n",
       "      <td>2022-Jun</td>\n",
       "      <td>1</td>\n",
       "    </tr>\n",
       "    <tr>\n",
       "      <th>3</th>\n",
       "      <td>3</td>\n",
       "      <td>2022-06-03</td>\n",
       "      <td>230.00</td>\n",
       "      <td>DK-NOTAZ0089 CINEMAXX FISKETORV</td>\n",
       "      <td>2022</td>\n",
       "      <td>2022-Jun</td>\n",
       "      <td>1</td>\n",
       "    </tr>\n",
       "    <tr>\n",
       "      <th>4</th>\n",
       "      <td>4</td>\n",
       "      <td>2022-06-03</td>\n",
       "      <td>116.93</td>\n",
       "      <td>DK-NOTAZ0174 CINEMAXX FISKETORV</td>\n",
       "      <td>2022</td>\n",
       "      <td>2022-Jun</td>\n",
       "      <td>1</td>\n",
       "    </tr>\n",
       "  </tbody>\n",
       "</table>\n",
       "</div>"
      ],
      "text/plain": [
       "   Unnamed: 0        date  transaction_amount  \\\n",
       "0           0  2022-06-01              188.00   \n",
       "1           1  2022-06-01               30.00   \n",
       "2           2  2022-06-02               30.00   \n",
       "3           3  2022-06-03              230.00   \n",
       "4           4  2022-06-03              116.93   \n",
       "\n",
       "                              text  year     month  expenditure  \n",
       "0             BS FITNESS WORLD A/S  2022  2022-Jun            1  \n",
       "1           DK-NOTA  246 BYGST 407  2022  2022-Jun            1  \n",
       "2   DK-NOTA  283 COOR KANTINE, 407  2022  2022-Jun            1  \n",
       "3  DK-NOTAZ0089 CINEMAXX FISKETORV  2022  2022-Jun            1  \n",
       "4  DK-NOTAZ0174 CINEMAXX FISKETORV  2022  2022-Jun            1  "
      ]
     },
     "execution_count": 79,
     "metadata": {},
     "output_type": "execute_result"
    }
   ],
   "source": [
    "# Inspecting data\n",
    "transactions_df.head()"
   ]
  },
  {
   "cell_type": "code",
   "execution_count": 80,
   "metadata": {},
   "outputs": [
    {
     "data": {
      "text/html": [
       "<div>\n",
       "<style scoped>\n",
       "    .dataframe tbody tr th:only-of-type {\n",
       "        vertical-align: middle;\n",
       "    }\n",
       "\n",
       "    .dataframe tbody tr th {\n",
       "        vertical-align: top;\n",
       "    }\n",
       "\n",
       "    .dataframe thead th {\n",
       "        text-align: right;\n",
       "    }\n",
       "</style>\n",
       "<table border=\"1\" class=\"dataframe\">\n",
       "  <thead>\n",
       "    <tr style=\"text-align: right;\">\n",
       "      <th></th>\n",
       "      <th>date</th>\n",
       "      <th>transaction_amount</th>\n",
       "      <th>text</th>\n",
       "      <th>year</th>\n",
       "      <th>month</th>\n",
       "      <th>expenditure</th>\n",
       "    </tr>\n",
       "  </thead>\n",
       "  <tbody>\n",
       "    <tr>\n",
       "      <th>0</th>\n",
       "      <td>2022-06-01</td>\n",
       "      <td>188.00</td>\n",
       "      <td>BS FITNESS WORLD A/S</td>\n",
       "      <td>2022</td>\n",
       "      <td>2022-Jun</td>\n",
       "      <td>1</td>\n",
       "    </tr>\n",
       "    <tr>\n",
       "      <th>1</th>\n",
       "      <td>2022-06-01</td>\n",
       "      <td>30.00</td>\n",
       "      <td>DK-NOTA  246 BYGST 407</td>\n",
       "      <td>2022</td>\n",
       "      <td>2022-Jun</td>\n",
       "      <td>1</td>\n",
       "    </tr>\n",
       "    <tr>\n",
       "      <th>2</th>\n",
       "      <td>2022-06-02</td>\n",
       "      <td>30.00</td>\n",
       "      <td>DK-NOTA  283 COOR KANTINE, 407</td>\n",
       "      <td>2022</td>\n",
       "      <td>2022-Jun</td>\n",
       "      <td>1</td>\n",
       "    </tr>\n",
       "    <tr>\n",
       "      <th>3</th>\n",
       "      <td>2022-06-03</td>\n",
       "      <td>230.00</td>\n",
       "      <td>DK-NOTAZ0089 CINEMAXX FISKETORV</td>\n",
       "      <td>2022</td>\n",
       "      <td>2022-Jun</td>\n",
       "      <td>1</td>\n",
       "    </tr>\n",
       "    <tr>\n",
       "      <th>4</th>\n",
       "      <td>2022-06-03</td>\n",
       "      <td>116.93</td>\n",
       "      <td>DK-NOTAZ0174 CINEMAXX FISKETORV</td>\n",
       "      <td>2022</td>\n",
       "      <td>2022-Jun</td>\n",
       "      <td>1</td>\n",
       "    </tr>\n",
       "  </tbody>\n",
       "</table>\n",
       "</div>"
      ],
      "text/plain": [
       "         date  transaction_amount                             text  year  \\\n",
       "0  2022-06-01              188.00             BS FITNESS WORLD A/S  2022   \n",
       "1  2022-06-01               30.00           DK-NOTA  246 BYGST 407  2022   \n",
       "2  2022-06-02               30.00   DK-NOTA  283 COOR KANTINE, 407  2022   \n",
       "3  2022-06-03              230.00  DK-NOTAZ0089 CINEMAXX FISKETORV  2022   \n",
       "4  2022-06-03              116.93  DK-NOTAZ0174 CINEMAXX FISKETORV  2022   \n",
       "\n",
       "      month  expenditure  \n",
       "0  2022-Jun            1  \n",
       "1  2022-Jun            1  \n",
       "2  2022-Jun            1  \n",
       "3  2022-Jun            1  \n",
       "4  2022-Jun            1  "
      ]
     },
     "execution_count": 80,
     "metadata": {},
     "output_type": "execute_result"
    }
   ],
   "source": [
    "# Dropping the unnamed column\n",
    "transactions_df.drop([\"Unnamed: 0\"], axis=1, inplace=True)\n",
    "\n",
    "# Display five first rows\n",
    "transactions_df.head()"
   ]
  },
  {
   "cell_type": "markdown",
   "metadata": {},
   "source": [
    "## Exploring data to identy KPI's for dashboard"
   ]
  },
  {
   "cell_type": "markdown",
   "metadata": {},
   "source": [
    "### Monthly Expenditures and Income"
   ]
  },
  {
   "cell_type": "markdown",
   "metadata": {},
   "source": [
    "Preparing monthly expenditures and income for plotting"
   ]
  },
  {
   "cell_type": "code",
   "execution_count": 134,
   "metadata": {},
   "outputs": [],
   "source": [
    "# Creating seperate dataframes for expenditure and income\n",
    "expenditure = transactions_df[transactions_df[\"expenditure\"]==1].groupby(\"month\").agg({\"transaction_amount\":\"sum\"})[\"transaction_amount\"]\n",
    "income = transactions_df[transactions_df[\"expenditure\"]==0].groupby(\"month\").agg({\"transaction_amount\":\"sum\"})[\"transaction_amount\"]\n",
    "months = transactions_df[\"month\"].unique()\n",
    "avg_expenditure = [expenditure.sum() / len(months)]*len(months)\n",
    "avg_income = [income.sum() / len(months)]*len(months)"
   ]
  },
  {
   "cell_type": "markdown",
   "metadata": {},
   "source": [
    "Creating plot"
   ]
  },
  {
   "cell_type": "code",
   "execution_count": 137,
   "metadata": {},
   "outputs": [
    {
     "data": {
      "application/vnd.plotly.v1+json": {
       "config": {
        "plotlyServerURL": "https://plot.ly"
       },
       "data": [
        {
         "marker": {
          "color": "#8839ef"
         },
         "name": "Expenditures",
         "type": "bar",
         "x": [
          "2022-Jun",
          "2022-Jul",
          "2022-Aug",
          "2022-Sep",
          "2022-Oct",
          "2022-Nov",
          "2022-Dec",
          "2023-Jan",
          "2023-Feb",
          "2023-Mar",
          "2023-Apr",
          "2023-May",
          "2023-Jun",
          "2023-Jul",
          "2023-Aug",
          "2023-Sep",
          "2023-Oct",
          "2023-Nov",
          "2023-Dec",
          "2024-Jan",
          "2024-Feb",
          "2024-Mar",
          "2024-Apr",
          "2024-May",
          "2024-Jun",
          "2024-Jul"
         ],
         "y": [
          29782.41,
          33830.45,
          36890,
          23064.61,
          27995.84,
          79669.55,
          12128.07,
          93798.19,
          32508,
          39507.57,
          45888.92,
          31332.940000000002,
          35927.09,
          24726.16,
          25565.48,
          38763.12,
          30263.620000000003,
          105060.92,
          23175.760000000002,
          81622.31999999999,
          32874.31,
          17345.28,
          2044.03,
          20246.2,
          35808.17,
          12779.369999999999
         ]
        },
        {
         "marker": {
          "color": "#7287fd"
         },
         "name": "Income",
         "type": "bar",
         "x": [
          "2022-Jun",
          "2022-Jul",
          "2022-Aug",
          "2022-Sep",
          "2022-Oct",
          "2022-Nov",
          "2022-Dec",
          "2023-Jan",
          "2023-Feb",
          "2023-Mar",
          "2023-Apr",
          "2023-May",
          "2023-Jun",
          "2023-Jul",
          "2023-Aug",
          "2023-Sep",
          "2023-Oct",
          "2023-Nov",
          "2023-Dec",
          "2024-Jan",
          "2024-Feb",
          "2024-Mar",
          "2024-Apr",
          "2024-May",
          "2024-Jun",
          "2024-Jul"
         ],
         "y": [
          20172.55,
          30279.16,
          48606.78,
          18380.47,
          18273.16,
          71831.04000000001,
          24304.27,
          84157.89,
          25690.87,
          38667.4,
          31403.16,
          42555.27,
          43496.21,
          21579.82,
          46631.6,
          33455.47,
          30766.93,
          102712.74,
          25877.7,
          64445.5,
          36229.22,
          20422.13,
          11343,
          9011.29,
          51209.68,
          13950
         ]
        },
        {
         "line": {
          "color": "#8839ef",
          "dash": "dash",
          "width": 2
         },
         "mode": "lines",
         "name": "Average Expenditure",
         "type": "scatter",
         "x": [
          "2022-Jun",
          "2022-Jul",
          "2022-Aug",
          "2022-Sep",
          "2022-Oct",
          "2022-Nov",
          "2022-Dec",
          "2023-Jan",
          "2023-Feb",
          "2023-Mar",
          "2023-Apr",
          "2023-May",
          "2023-Jun",
          "2023-Jul",
          "2023-Aug",
          "2023-Sep",
          "2023-Oct",
          "2023-Nov",
          "2023-Dec",
          "2024-Jan",
          "2024-Feb",
          "2024-Mar",
          "2024-Apr",
          "2024-May",
          "2024-Jun",
          "2024-Jul"
         ],
         "y": [
          37407.63,
          37407.63,
          37407.63,
          37407.63,
          37407.63,
          37407.63,
          37407.63,
          37407.63,
          37407.63,
          37407.63,
          37407.63,
          37407.63,
          37407.63,
          37407.63,
          37407.63,
          37407.63,
          37407.63,
          37407.63,
          37407.63,
          37407.63,
          37407.63,
          37407.63,
          37407.63,
          37407.63,
          37407.63,
          37407.63
         ]
        },
        {
         "line": {
          "color": "#7287fd",
          "dash": "dash",
          "width": 2
         },
         "mode": "lines",
         "name": "Average Income",
         "type": "scatter",
         "x": [
          "2022-Jun",
          "2022-Jul",
          "2022-Aug",
          "2022-Sep",
          "2022-Oct",
          "2022-Nov",
          "2022-Dec",
          "2023-Jan",
          "2023-Feb",
          "2023-Mar",
          "2023-Apr",
          "2023-May",
          "2023-Jun",
          "2023-Jul",
          "2023-Aug",
          "2023-Sep",
          "2023-Oct",
          "2023-Nov",
          "2023-Dec",
          "2024-Jan",
          "2024-Feb",
          "2024-Mar",
          "2024-Apr",
          "2024-May",
          "2024-Jun",
          "2024-Jul"
         ],
         "y": [
          37132.819615384615,
          37132.819615384615,
          37132.819615384615,
          37132.819615384615,
          37132.819615384615,
          37132.819615384615,
          37132.819615384615,
          37132.819615384615,
          37132.819615384615,
          37132.819615384615,
          37132.819615384615,
          37132.819615384615,
          37132.819615384615,
          37132.819615384615,
          37132.819615384615,
          37132.819615384615,
          37132.819615384615,
          37132.819615384615,
          37132.819615384615,
          37132.819615384615,
          37132.819615384615,
          37132.819615384615,
          37132.819615384615,
          37132.819615384615,
          37132.819615384615,
          37132.819615384615
         ]
        }
       ],
       "layout": {
        "barmode": "group",
        "template": {
         "data": {
          "bar": [
           {
            "error_x": {
             "color": "rgb(36,36,36)"
            },
            "error_y": {
             "color": "rgb(36,36,36)"
            },
            "marker": {
             "line": {
              "color": "white",
              "width": 0.5
             },
             "pattern": {
              "fillmode": "overlay",
              "size": 10,
              "solidity": 0.2
             }
            },
            "type": "bar"
           }
          ],
          "barpolar": [
           {
            "marker": {
             "line": {
              "color": "white",
              "width": 0.5
             },
             "pattern": {
              "fillmode": "overlay",
              "size": 10,
              "solidity": 0.2
             }
            },
            "type": "barpolar"
           }
          ],
          "carpet": [
           {
            "aaxis": {
             "endlinecolor": "rgb(36,36,36)",
             "gridcolor": "white",
             "linecolor": "white",
             "minorgridcolor": "white",
             "startlinecolor": "rgb(36,36,36)"
            },
            "baxis": {
             "endlinecolor": "rgb(36,36,36)",
             "gridcolor": "white",
             "linecolor": "white",
             "minorgridcolor": "white",
             "startlinecolor": "rgb(36,36,36)"
            },
            "type": "carpet"
           }
          ],
          "choropleth": [
           {
            "colorbar": {
             "outlinewidth": 1,
             "tickcolor": "rgb(36,36,36)",
             "ticks": "outside"
            },
            "type": "choropleth"
           }
          ],
          "contour": [
           {
            "colorbar": {
             "outlinewidth": 1,
             "tickcolor": "rgb(36,36,36)",
             "ticks": "outside"
            },
            "colorscale": [
             [
              0,
              "#440154"
             ],
             [
              0.1111111111111111,
              "#482878"
             ],
             [
              0.2222222222222222,
              "#3e4989"
             ],
             [
              0.3333333333333333,
              "#31688e"
             ],
             [
              0.4444444444444444,
              "#26828e"
             ],
             [
              0.5555555555555556,
              "#1f9e89"
             ],
             [
              0.6666666666666666,
              "#35b779"
             ],
             [
              0.7777777777777778,
              "#6ece58"
             ],
             [
              0.8888888888888888,
              "#b5de2b"
             ],
             [
              1,
              "#fde725"
             ]
            ],
            "type": "contour"
           }
          ],
          "contourcarpet": [
           {
            "colorbar": {
             "outlinewidth": 1,
             "tickcolor": "rgb(36,36,36)",
             "ticks": "outside"
            },
            "type": "contourcarpet"
           }
          ],
          "heatmap": [
           {
            "colorbar": {
             "outlinewidth": 1,
             "tickcolor": "rgb(36,36,36)",
             "ticks": "outside"
            },
            "colorscale": [
             [
              0,
              "#440154"
             ],
             [
              0.1111111111111111,
              "#482878"
             ],
             [
              0.2222222222222222,
              "#3e4989"
             ],
             [
              0.3333333333333333,
              "#31688e"
             ],
             [
              0.4444444444444444,
              "#26828e"
             ],
             [
              0.5555555555555556,
              "#1f9e89"
             ],
             [
              0.6666666666666666,
              "#35b779"
             ],
             [
              0.7777777777777778,
              "#6ece58"
             ],
             [
              0.8888888888888888,
              "#b5de2b"
             ],
             [
              1,
              "#fde725"
             ]
            ],
            "type": "heatmap"
           }
          ],
          "heatmapgl": [
           {
            "colorbar": {
             "outlinewidth": 1,
             "tickcolor": "rgb(36,36,36)",
             "ticks": "outside"
            },
            "colorscale": [
             [
              0,
              "#440154"
             ],
             [
              0.1111111111111111,
              "#482878"
             ],
             [
              0.2222222222222222,
              "#3e4989"
             ],
             [
              0.3333333333333333,
              "#31688e"
             ],
             [
              0.4444444444444444,
              "#26828e"
             ],
             [
              0.5555555555555556,
              "#1f9e89"
             ],
             [
              0.6666666666666666,
              "#35b779"
             ],
             [
              0.7777777777777778,
              "#6ece58"
             ],
             [
              0.8888888888888888,
              "#b5de2b"
             ],
             [
              1,
              "#fde725"
             ]
            ],
            "type": "heatmapgl"
           }
          ],
          "histogram": [
           {
            "marker": {
             "line": {
              "color": "white",
              "width": 0.6
             }
            },
            "type": "histogram"
           }
          ],
          "histogram2d": [
           {
            "colorbar": {
             "outlinewidth": 1,
             "tickcolor": "rgb(36,36,36)",
             "ticks": "outside"
            },
            "colorscale": [
             [
              0,
              "#440154"
             ],
             [
              0.1111111111111111,
              "#482878"
             ],
             [
              0.2222222222222222,
              "#3e4989"
             ],
             [
              0.3333333333333333,
              "#31688e"
             ],
             [
              0.4444444444444444,
              "#26828e"
             ],
             [
              0.5555555555555556,
              "#1f9e89"
             ],
             [
              0.6666666666666666,
              "#35b779"
             ],
             [
              0.7777777777777778,
              "#6ece58"
             ],
             [
              0.8888888888888888,
              "#b5de2b"
             ],
             [
              1,
              "#fde725"
             ]
            ],
            "type": "histogram2d"
           }
          ],
          "histogram2dcontour": [
           {
            "colorbar": {
             "outlinewidth": 1,
             "tickcolor": "rgb(36,36,36)",
             "ticks": "outside"
            },
            "colorscale": [
             [
              0,
              "#440154"
             ],
             [
              0.1111111111111111,
              "#482878"
             ],
             [
              0.2222222222222222,
              "#3e4989"
             ],
             [
              0.3333333333333333,
              "#31688e"
             ],
             [
              0.4444444444444444,
              "#26828e"
             ],
             [
              0.5555555555555556,
              "#1f9e89"
             ],
             [
              0.6666666666666666,
              "#35b779"
             ],
             [
              0.7777777777777778,
              "#6ece58"
             ],
             [
              0.8888888888888888,
              "#b5de2b"
             ],
             [
              1,
              "#fde725"
             ]
            ],
            "type": "histogram2dcontour"
           }
          ],
          "mesh3d": [
           {
            "colorbar": {
             "outlinewidth": 1,
             "tickcolor": "rgb(36,36,36)",
             "ticks": "outside"
            },
            "type": "mesh3d"
           }
          ],
          "parcoords": [
           {
            "line": {
             "colorbar": {
              "outlinewidth": 1,
              "tickcolor": "rgb(36,36,36)",
              "ticks": "outside"
             }
            },
            "type": "parcoords"
           }
          ],
          "pie": [
           {
            "automargin": true,
            "type": "pie"
           }
          ],
          "scatter": [
           {
            "fillpattern": {
             "fillmode": "overlay",
             "size": 10,
             "solidity": 0.2
            },
            "type": "scatter"
           }
          ],
          "scatter3d": [
           {
            "line": {
             "colorbar": {
              "outlinewidth": 1,
              "tickcolor": "rgb(36,36,36)",
              "ticks": "outside"
             }
            },
            "marker": {
             "colorbar": {
              "outlinewidth": 1,
              "tickcolor": "rgb(36,36,36)",
              "ticks": "outside"
             }
            },
            "type": "scatter3d"
           }
          ],
          "scattercarpet": [
           {
            "marker": {
             "colorbar": {
              "outlinewidth": 1,
              "tickcolor": "rgb(36,36,36)",
              "ticks": "outside"
             }
            },
            "type": "scattercarpet"
           }
          ],
          "scattergeo": [
           {
            "marker": {
             "colorbar": {
              "outlinewidth": 1,
              "tickcolor": "rgb(36,36,36)",
              "ticks": "outside"
             }
            },
            "type": "scattergeo"
           }
          ],
          "scattergl": [
           {
            "marker": {
             "colorbar": {
              "outlinewidth": 1,
              "tickcolor": "rgb(36,36,36)",
              "ticks": "outside"
             }
            },
            "type": "scattergl"
           }
          ],
          "scattermapbox": [
           {
            "marker": {
             "colorbar": {
              "outlinewidth": 1,
              "tickcolor": "rgb(36,36,36)",
              "ticks": "outside"
             }
            },
            "type": "scattermapbox"
           }
          ],
          "scatterpolar": [
           {
            "marker": {
             "colorbar": {
              "outlinewidth": 1,
              "tickcolor": "rgb(36,36,36)",
              "ticks": "outside"
             }
            },
            "type": "scatterpolar"
           }
          ],
          "scatterpolargl": [
           {
            "marker": {
             "colorbar": {
              "outlinewidth": 1,
              "tickcolor": "rgb(36,36,36)",
              "ticks": "outside"
             }
            },
            "type": "scatterpolargl"
           }
          ],
          "scatterternary": [
           {
            "marker": {
             "colorbar": {
              "outlinewidth": 1,
              "tickcolor": "rgb(36,36,36)",
              "ticks": "outside"
             }
            },
            "type": "scatterternary"
           }
          ],
          "surface": [
           {
            "colorbar": {
             "outlinewidth": 1,
             "tickcolor": "rgb(36,36,36)",
             "ticks": "outside"
            },
            "colorscale": [
             [
              0,
              "#440154"
             ],
             [
              0.1111111111111111,
              "#482878"
             ],
             [
              0.2222222222222222,
              "#3e4989"
             ],
             [
              0.3333333333333333,
              "#31688e"
             ],
             [
              0.4444444444444444,
              "#26828e"
             ],
             [
              0.5555555555555556,
              "#1f9e89"
             ],
             [
              0.6666666666666666,
              "#35b779"
             ],
             [
              0.7777777777777778,
              "#6ece58"
             ],
             [
              0.8888888888888888,
              "#b5de2b"
             ],
             [
              1,
              "#fde725"
             ]
            ],
            "type": "surface"
           }
          ],
          "table": [
           {
            "cells": {
             "fill": {
              "color": "rgb(237,237,237)"
             },
             "line": {
              "color": "white"
             }
            },
            "header": {
             "fill": {
              "color": "rgb(217,217,217)"
             },
             "line": {
              "color": "white"
             }
            },
            "type": "table"
           }
          ]
         },
         "layout": {
          "annotationdefaults": {
           "arrowhead": 0,
           "arrowwidth": 1
          },
          "autotypenumbers": "strict",
          "coloraxis": {
           "colorbar": {
            "outlinewidth": 1,
            "tickcolor": "rgb(36,36,36)",
            "ticks": "outside"
           }
          },
          "colorscale": {
           "diverging": [
            [
             0,
             "rgb(103,0,31)"
            ],
            [
             0.1,
             "rgb(178,24,43)"
            ],
            [
             0.2,
             "rgb(214,96,77)"
            ],
            [
             0.3,
             "rgb(244,165,130)"
            ],
            [
             0.4,
             "rgb(253,219,199)"
            ],
            [
             0.5,
             "rgb(247,247,247)"
            ],
            [
             0.6,
             "rgb(209,229,240)"
            ],
            [
             0.7,
             "rgb(146,197,222)"
            ],
            [
             0.8,
             "rgb(67,147,195)"
            ],
            [
             0.9,
             "rgb(33,102,172)"
            ],
            [
             1,
             "rgb(5,48,97)"
            ]
           ],
           "sequential": [
            [
             0,
             "#440154"
            ],
            [
             0.1111111111111111,
             "#482878"
            ],
            [
             0.2222222222222222,
             "#3e4989"
            ],
            [
             0.3333333333333333,
             "#31688e"
            ],
            [
             0.4444444444444444,
             "#26828e"
            ],
            [
             0.5555555555555556,
             "#1f9e89"
            ],
            [
             0.6666666666666666,
             "#35b779"
            ],
            [
             0.7777777777777778,
             "#6ece58"
            ],
            [
             0.8888888888888888,
             "#b5de2b"
            ],
            [
             1,
             "#fde725"
            ]
           ],
           "sequentialminus": [
            [
             0,
             "#440154"
            ],
            [
             0.1111111111111111,
             "#482878"
            ],
            [
             0.2222222222222222,
             "#3e4989"
            ],
            [
             0.3333333333333333,
             "#31688e"
            ],
            [
             0.4444444444444444,
             "#26828e"
            ],
            [
             0.5555555555555556,
             "#1f9e89"
            ],
            [
             0.6666666666666666,
             "#35b779"
            ],
            [
             0.7777777777777778,
             "#6ece58"
            ],
            [
             0.8888888888888888,
             "#b5de2b"
            ],
            [
             1,
             "#fde725"
            ]
           ]
          },
          "colorway": [
           "#1F77B4",
           "#FF7F0E",
           "#2CA02C",
           "#D62728",
           "#9467BD",
           "#8C564B",
           "#E377C2",
           "#7F7F7F",
           "#BCBD22",
           "#17BECF"
          ],
          "font": {
           "color": "rgb(36,36,36)"
          },
          "geo": {
           "bgcolor": "white",
           "lakecolor": "white",
           "landcolor": "white",
           "showlakes": true,
           "showland": true,
           "subunitcolor": "white"
          },
          "hoverlabel": {
           "align": "left"
          },
          "hovermode": "closest",
          "mapbox": {
           "style": "light"
          },
          "paper_bgcolor": "white",
          "plot_bgcolor": "white",
          "polar": {
           "angularaxis": {
            "gridcolor": "rgb(232,232,232)",
            "linecolor": "rgb(36,36,36)",
            "showgrid": false,
            "showline": true,
            "ticks": "outside"
           },
           "bgcolor": "white",
           "radialaxis": {
            "gridcolor": "rgb(232,232,232)",
            "linecolor": "rgb(36,36,36)",
            "showgrid": false,
            "showline": true,
            "ticks": "outside"
           }
          },
          "scene": {
           "xaxis": {
            "backgroundcolor": "white",
            "gridcolor": "rgb(232,232,232)",
            "gridwidth": 2,
            "linecolor": "rgb(36,36,36)",
            "showbackground": true,
            "showgrid": false,
            "showline": true,
            "ticks": "outside",
            "zeroline": false,
            "zerolinecolor": "rgb(36,36,36)"
           },
           "yaxis": {
            "backgroundcolor": "white",
            "gridcolor": "rgb(232,232,232)",
            "gridwidth": 2,
            "linecolor": "rgb(36,36,36)",
            "showbackground": true,
            "showgrid": false,
            "showline": true,
            "ticks": "outside",
            "zeroline": false,
            "zerolinecolor": "rgb(36,36,36)"
           },
           "zaxis": {
            "backgroundcolor": "white",
            "gridcolor": "rgb(232,232,232)",
            "gridwidth": 2,
            "linecolor": "rgb(36,36,36)",
            "showbackground": true,
            "showgrid": false,
            "showline": true,
            "ticks": "outside",
            "zeroline": false,
            "zerolinecolor": "rgb(36,36,36)"
           }
          },
          "shapedefaults": {
           "fillcolor": "black",
           "line": {
            "width": 0
           },
           "opacity": 0.3
          },
          "ternary": {
           "aaxis": {
            "gridcolor": "rgb(232,232,232)",
            "linecolor": "rgb(36,36,36)",
            "showgrid": false,
            "showline": true,
            "ticks": "outside"
           },
           "baxis": {
            "gridcolor": "rgb(232,232,232)",
            "linecolor": "rgb(36,36,36)",
            "showgrid": false,
            "showline": true,
            "ticks": "outside"
           },
           "bgcolor": "white",
           "caxis": {
            "gridcolor": "rgb(232,232,232)",
            "linecolor": "rgb(36,36,36)",
            "showgrid": false,
            "showline": true,
            "ticks": "outside"
           }
          },
          "title": {
           "x": 0.05
          },
          "xaxis": {
           "automargin": true,
           "gridcolor": "rgb(232,232,232)",
           "linecolor": "rgb(36,36,36)",
           "showgrid": false,
           "showline": true,
           "ticks": "outside",
           "title": {
            "standoff": 15
           },
           "zeroline": false,
           "zerolinecolor": "rgb(36,36,36)"
          },
          "yaxis": {
           "automargin": true,
           "gridcolor": "rgb(232,232,232)",
           "linecolor": "rgb(36,36,36)",
           "showgrid": false,
           "showline": true,
           "ticks": "outside",
           "title": {
            "standoff": 15
           },
           "zeroline": false,
           "zerolinecolor": "rgb(36,36,36)"
          }
         }
        },
        "title": {
         "text": "Monthly Expenditures and Income (DKK)"
        },
        "yaxis": {
         "tickformat": ",.0f"
        }
       }
      }
     },
     "metadata": {},
     "output_type": "display_data"
    }
   ],
   "source": [
    "# Create figure\n",
    "fig = go.Figure(\n",
    "  data=[\n",
    "    go.Bar(\n",
    "      name='Expenditures', \n",
    "      x=months,\n",
    "      y=expenditure,\n",
    "      marker_color=\"#8839ef\"\n",
    "      ),\n",
    "    go.Bar(\n",
    "      name='Income',\n",
    "      x=months,\n",
    "      y=income,\n",
    "      marker_color=\"#7287fd\"\n",
    "      ),\n",
    "    go.Scatter(\n",
    "      name='Average Expenditure',\n",
    "      x=months,\n",
    "      y=avg_expenditure,\n",
    "      mode='lines',\n",
    "      line=dict(color='#8839ef', width=2, dash='dash')\n",
    "      ),\n",
    "    go.Scatter(\n",
    "      name='Average Income',\n",
    "      x=months,\n",
    "      y=avg_income,\n",
    "      mode='lines',\n",
    "      line=dict(color='#7287fd', width=2, dash='dash')\n",
    "      )\n",
    "      ],\n",
    "    layout=go.Layout(\n",
    "      title=go.layout.Title(text=\"Monthly Expenditures and Income (DKK)\"),\n",
    "      yaxis=dict(\n",
    "            tickformat=',.0f'\n",
    "        ),\n",
    "      template=\"simple_white\"\n",
    "    )\n",
    ")\n",
    "\n",
    "# Change the bar mode\n",
    "fig.update_layout(barmode='group')\n",
    "fig.show()"
   ]
  },
  {
   "cell_type": "markdown",
   "metadata": {},
   "source": [
    "## Ideer til andre plots"
   ]
  },
  {
   "cell_type": "markdown",
   "metadata": {},
   "source": [
    "- Total på årlig basis i tabel\n",
    "- Fordeling mellem kategorier\n",
    "- Inkludere aktier fra Nordnet\n"
   ]
  },
  {
   "cell_type": "markdown",
   "metadata": {},
   "source": [
    "app.layout = [\n",
    "    html.H1(children=\"Personal Finance Dashboard\"),\n",
    "    html.Div(\n",
    "        children=\"This is a dashboard developed to provide a brief overview of my personal finances.\"\n",
    "    ),\n",
    "    dash_table.DataTable(\n",
    "        data=transactions_df[\n",
    "            [\"date\", \"text\", \"transaction_amount\", \"expenditure\"]\n",
    "        ].to_dict(\"records\"),\n",
    "        page_size=10,\n",
    "    ),\n",
    "    dcc.Graph(figure=fig),\n",
    "]\n"
   ]
  }
 ],
 "metadata": {
  "kernelspec": {
   "display_name": ".venv",
   "language": "python",
   "name": "python3"
  },
  "language_info": {
   "codemirror_mode": {
    "name": "ipython",
    "version": 3
   },
   "file_extension": ".py",
   "mimetype": "text/x-python",
   "name": "python",
   "nbconvert_exporter": "python",
   "pygments_lexer": "ipython3",
   "version": "3.12.3"
  }
 },
 "nbformat": 4,
 "nbformat_minor": 2
}
