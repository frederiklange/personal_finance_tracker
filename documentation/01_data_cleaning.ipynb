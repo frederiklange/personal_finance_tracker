{
 "cells": [
  {
   "cell_type": "markdown",
   "metadata": {},
   "source": [
    "# 01. Data Cleaning"
   ]
  },
  {
   "cell_type": "markdown",
   "metadata": {},
   "source": [
    "These are the steps included in the data cleaning proces for my personal finance tracker project."
   ]
  },
  {
   "cell_type": "code",
   "execution_count": 78,
   "metadata": {},
   "outputs": [],
   "source": [
    "# Importing packages\n",
    "import pandas as pd"
   ]
  },
  {
   "cell_type": "markdown",
   "metadata": {},
   "source": [
    "## Reading the data"
   ]
  },
  {
   "cell_type": "code",
   "execution_count": 79,
   "metadata": {},
   "outputs": [],
   "source": [
    "# Reading data to dataframe\n",
    "transactions_df = pd.read_csv(\"../data/raw/transactions.csv\", delimiter=\";\", encoding=\"ISO-8859-1\")"
   ]
  },
  {
   "cell_type": "markdown",
   "metadata": {},
   "source": [
    "## Inspecting the data"
   ]
  },
  {
   "cell_type": "code",
   "execution_count": 80,
   "metadata": {},
   "outputs": [
    {
     "data": {
      "text/html": [
       "<div>\n",
       "<style scoped>\n",
       "    .dataframe tbody tr th:only-of-type {\n",
       "        vertical-align: middle;\n",
       "    }\n",
       "\n",
       "    .dataframe tbody tr th {\n",
       "        vertical-align: top;\n",
       "    }\n",
       "\n",
       "    .dataframe thead th {\n",
       "        text-align: right;\n",
       "    }\n",
       "</style>\n",
       "<table border=\"1\" class=\"dataframe\">\n",
       "  <thead>\n",
       "    <tr style=\"text-align: right;\">\n",
       "      <th></th>\n",
       "      <th>Dato</th>\n",
       "      <th>Beløb</th>\n",
       "      <th>Tekst</th>\n",
       "      <th>Unnamed: 3</th>\n",
       "    </tr>\n",
       "  </thead>\n",
       "  <tbody>\n",
       "    <tr>\n",
       "      <th>0</th>\n",
       "      <td>01-06-2022</td>\n",
       "      <td>-188.00</td>\n",
       "      <td>BS FITNESS WORLD A/S</td>\n",
       "      <td>NaN</td>\n",
       "    </tr>\n",
       "    <tr>\n",
       "      <th>1</th>\n",
       "      <td>01-06-2022</td>\n",
       "      <td>-30.00</td>\n",
       "      <td>DK-NOTA  246 BYGST 407</td>\n",
       "      <td>NaN</td>\n",
       "    </tr>\n",
       "    <tr>\n",
       "      <th>2</th>\n",
       "      <td>02-06-2022</td>\n",
       "      <td>-30.00</td>\n",
       "      <td>DK-NOTA  283 COOR KANTINE, 407</td>\n",
       "      <td>NaN</td>\n",
       "    </tr>\n",
       "    <tr>\n",
       "      <th>3</th>\n",
       "      <td>03-06-2022</td>\n",
       "      <td>-230.00</td>\n",
       "      <td>DK-NOTAZ0089 CINEMAXX FISKETORV</td>\n",
       "      <td>NaN</td>\n",
       "    </tr>\n",
       "    <tr>\n",
       "      <th>4</th>\n",
       "      <td>03-06-2022</td>\n",
       "      <td>-116.93</td>\n",
       "      <td>DK-NOTAZ0174 CINEMAXX FISKETORV</td>\n",
       "      <td>NaN</td>\n",
       "    </tr>\n",
       "  </tbody>\n",
       "</table>\n",
       "</div>"
      ],
      "text/plain": [
       "         Dato   Beløb                            Tekst  Unnamed: 3\n",
       "0  01-06-2022 -188.00             BS FITNESS WORLD A/S         NaN\n",
       "1  01-06-2022  -30.00           DK-NOTA  246 BYGST 407         NaN\n",
       "2  02-06-2022  -30.00   DK-NOTA  283 COOR KANTINE, 407         NaN\n",
       "3  03-06-2022 -230.00  DK-NOTAZ0089 CINEMAXX FISKETORV         NaN\n",
       "4  03-06-2022 -116.93  DK-NOTAZ0174 CINEMAXX FISKETORV         NaN"
      ]
     },
     "execution_count": 80,
     "metadata": {},
     "output_type": "execute_result"
    }
   ],
   "source": [
    "# Insepcting five first rows\n",
    "transactions_df.head()"
   ]
  },
  {
   "cell_type": "markdown",
   "metadata": {},
   "source": [
    "Below, I validate that the pulled data matches the information on my bank account. In June 2024, I had 62 transactions. This is also the number of rows in the data set. Therefore, it seems that the csv file has been downloaded and read correctly."
   ]
  },
  {
   "cell_type": "code",
   "execution_count": 81,
   "metadata": {},
   "outputs": [
    {
     "data": {
      "text/plain": [
       "(2252, 4)"
      ]
     },
     "execution_count": 81,
     "metadata": {},
     "output_type": "execute_result"
    }
   ],
   "source": [
    "# Checking shape \n",
    "transactions_df.shape"
   ]
  },
  {
   "cell_type": "markdown",
   "metadata": {},
   "source": [
    "Inspecting the columns in the data set"
   ]
  },
  {
   "cell_type": "code",
   "execution_count": 82,
   "metadata": {},
   "outputs": [
    {
     "data": {
      "text/plain": [
       "Index(['Dato', 'Beløb', 'Tekst', 'Unnamed: 3'], dtype='object')"
      ]
     },
     "execution_count": 82,
     "metadata": {},
     "output_type": "execute_result"
    }
   ],
   "source": [
    "# Inspecting columns\n",
    "transactions_df.columns"
   ]
  },
  {
   "cell_type": "markdown",
   "metadata": {},
   "source": [
    "## Cleaning the data"
   ]
  },
  {
   "cell_type": "markdown",
   "metadata": {},
   "source": [
    "Dropping the unnamed column that is not relevant."
   ]
  },
  {
   "cell_type": "code",
   "execution_count": 83,
   "metadata": {},
   "outputs": [
    {
     "data": {
      "text/html": [
       "<div>\n",
       "<style scoped>\n",
       "    .dataframe tbody tr th:only-of-type {\n",
       "        vertical-align: middle;\n",
       "    }\n",
       "\n",
       "    .dataframe tbody tr th {\n",
       "        vertical-align: top;\n",
       "    }\n",
       "\n",
       "    .dataframe thead th {\n",
       "        text-align: right;\n",
       "    }\n",
       "</style>\n",
       "<table border=\"1\" class=\"dataframe\">\n",
       "  <thead>\n",
       "    <tr style=\"text-align: right;\">\n",
       "      <th></th>\n",
       "      <th>Dato</th>\n",
       "      <th>Beløb</th>\n",
       "      <th>Tekst</th>\n",
       "    </tr>\n",
       "  </thead>\n",
       "  <tbody>\n",
       "    <tr>\n",
       "      <th>0</th>\n",
       "      <td>01-06-2022</td>\n",
       "      <td>-188.00</td>\n",
       "      <td>BS FITNESS WORLD A/S</td>\n",
       "    </tr>\n",
       "    <tr>\n",
       "      <th>1</th>\n",
       "      <td>01-06-2022</td>\n",
       "      <td>-30.00</td>\n",
       "      <td>DK-NOTA  246 BYGST 407</td>\n",
       "    </tr>\n",
       "    <tr>\n",
       "      <th>2</th>\n",
       "      <td>02-06-2022</td>\n",
       "      <td>-30.00</td>\n",
       "      <td>DK-NOTA  283 COOR KANTINE, 407</td>\n",
       "    </tr>\n",
       "    <tr>\n",
       "      <th>3</th>\n",
       "      <td>03-06-2022</td>\n",
       "      <td>-230.00</td>\n",
       "      <td>DK-NOTAZ0089 CINEMAXX FISKETORV</td>\n",
       "    </tr>\n",
       "    <tr>\n",
       "      <th>4</th>\n",
       "      <td>03-06-2022</td>\n",
       "      <td>-116.93</td>\n",
       "      <td>DK-NOTAZ0174 CINEMAXX FISKETORV</td>\n",
       "    </tr>\n",
       "    <tr>\n",
       "      <th>...</th>\n",
       "      <td>...</td>\n",
       "      <td>...</td>\n",
       "      <td>...</td>\n",
       "    </tr>\n",
       "    <tr>\n",
       "      <th>2247</th>\n",
       "      <td>01-07-2024</td>\n",
       "      <td>-149.00</td>\n",
       "      <td>TV2 DK* ID 1836275</td>\n",
       "    </tr>\n",
       "    <tr>\n",
       "      <th>2248</th>\n",
       "      <td>01-07-2024</td>\n",
       "      <td>-1452.00</td>\n",
       "      <td>BS AKADEMIKERNES A-KASSE</td>\n",
       "    </tr>\n",
       "    <tr>\n",
       "      <th>2249</th>\n",
       "      <td>01-07-2024</td>\n",
       "      <td>2000.00</td>\n",
       "      <td>From StjerneOpsparin</td>\n",
       "    </tr>\n",
       "    <tr>\n",
       "      <th>2250</th>\n",
       "      <td>02-07-2024</td>\n",
       "      <td>9068.00</td>\n",
       "      <td>LØNOVER.</td>\n",
       "    </tr>\n",
       "    <tr>\n",
       "      <th>2251</th>\n",
       "      <td>02-07-2024</td>\n",
       "      <td>-52.05</td>\n",
       "      <td>SC.FRANPRIX</td>\n",
       "    </tr>\n",
       "  </tbody>\n",
       "</table>\n",
       "<p>2252 rows × 3 columns</p>\n",
       "</div>"
      ],
      "text/plain": [
       "            Dato    Beløb                            Tekst\n",
       "0     01-06-2022  -188.00             BS FITNESS WORLD A/S\n",
       "1     01-06-2022   -30.00           DK-NOTA  246 BYGST 407\n",
       "2     02-06-2022   -30.00   DK-NOTA  283 COOR KANTINE, 407\n",
       "3     03-06-2022  -230.00  DK-NOTAZ0089 CINEMAXX FISKETORV\n",
       "4     03-06-2022  -116.93  DK-NOTAZ0174 CINEMAXX FISKETORV\n",
       "...          ...      ...                              ...\n",
       "2247  01-07-2024  -149.00               TV2 DK* ID 1836275\n",
       "2248  01-07-2024 -1452.00         BS AKADEMIKERNES A-KASSE\n",
       "2249  01-07-2024  2000.00             From StjerneOpsparin\n",
       "2250  02-07-2024  9068.00                         LØNOVER.\n",
       "2251  02-07-2024   -52.05                      SC.FRANPRIX\n",
       "\n",
       "[2252 rows x 3 columns]"
      ]
     },
     "execution_count": 83,
     "metadata": {},
     "output_type": "execute_result"
    }
   ],
   "source": [
    "# Dropping column\n",
    "transactions_df = transactions_df.drop([\"Unnamed: 3\"], axis=1)\n",
    "\n",
    "# Display 5 first rows\n",
    "transactions_df"
   ]
  },
  {
   "cell_type": "markdown",
   "metadata": {},
   "source": [
    "Renaming the columns to english with lower case"
   ]
  },
  {
   "cell_type": "code",
   "execution_count": 84,
   "metadata": {},
   "outputs": [
    {
     "data": {
      "text/html": [
       "<div>\n",
       "<style scoped>\n",
       "    .dataframe tbody tr th:only-of-type {\n",
       "        vertical-align: middle;\n",
       "    }\n",
       "\n",
       "    .dataframe tbody tr th {\n",
       "        vertical-align: top;\n",
       "    }\n",
       "\n",
       "    .dataframe thead th {\n",
       "        text-align: right;\n",
       "    }\n",
       "</style>\n",
       "<table border=\"1\" class=\"dataframe\">\n",
       "  <thead>\n",
       "    <tr style=\"text-align: right;\">\n",
       "      <th></th>\n",
       "      <th>date</th>\n",
       "      <th>transaction_amount</th>\n",
       "      <th>text</th>\n",
       "    </tr>\n",
       "  </thead>\n",
       "  <tbody>\n",
       "    <tr>\n",
       "      <th>0</th>\n",
       "      <td>01-06-2022</td>\n",
       "      <td>-188.00</td>\n",
       "      <td>BS FITNESS WORLD A/S</td>\n",
       "    </tr>\n",
       "    <tr>\n",
       "      <th>1</th>\n",
       "      <td>01-06-2022</td>\n",
       "      <td>-30.00</td>\n",
       "      <td>DK-NOTA  246 BYGST 407</td>\n",
       "    </tr>\n",
       "    <tr>\n",
       "      <th>2</th>\n",
       "      <td>02-06-2022</td>\n",
       "      <td>-30.00</td>\n",
       "      <td>DK-NOTA  283 COOR KANTINE, 407</td>\n",
       "    </tr>\n",
       "    <tr>\n",
       "      <th>3</th>\n",
       "      <td>03-06-2022</td>\n",
       "      <td>-230.00</td>\n",
       "      <td>DK-NOTAZ0089 CINEMAXX FISKETORV</td>\n",
       "    </tr>\n",
       "    <tr>\n",
       "      <th>4</th>\n",
       "      <td>03-06-2022</td>\n",
       "      <td>-116.93</td>\n",
       "      <td>DK-NOTAZ0174 CINEMAXX FISKETORV</td>\n",
       "    </tr>\n",
       "  </tbody>\n",
       "</table>\n",
       "</div>"
      ],
      "text/plain": [
       "         date  transaction_amount                             text\n",
       "0  01-06-2022             -188.00             BS FITNESS WORLD A/S\n",
       "1  01-06-2022              -30.00           DK-NOTA  246 BYGST 407\n",
       "2  02-06-2022              -30.00   DK-NOTA  283 COOR KANTINE, 407\n",
       "3  03-06-2022             -230.00  DK-NOTAZ0089 CINEMAXX FISKETORV\n",
       "4  03-06-2022             -116.93  DK-NOTAZ0174 CINEMAXX FISKETORV"
      ]
     },
     "execution_count": 84,
     "metadata": {},
     "output_type": "execute_result"
    }
   ],
   "source": [
    "# Creating renaming map\n",
    "rename_map = {\n",
    "  \"Dato\": \"date\",\n",
    "  \"Beløb\": \"transaction_amount\",\n",
    "  \"Tekst\": \"text\"\n",
    "}\n",
    "\n",
    "# Applying map to rename columns\n",
    "transactions_df.rename(columns=rename_map, inplace=True)\n",
    "\n",
    "# Inspection columns to see if changes was applied\n",
    "transactions_df.head()"
   ]
  },
  {
   "cell_type": "markdown",
   "metadata": {},
   "source": [
    "In the next step, I convert the date into the date time format to work with it as a date time object."
   ]
  },
  {
   "cell_type": "code",
   "execution_count": 85,
   "metadata": {},
   "outputs": [
    {
     "data": {
      "text/html": [
       "<div>\n",
       "<style scoped>\n",
       "    .dataframe tbody tr th:only-of-type {\n",
       "        vertical-align: middle;\n",
       "    }\n",
       "\n",
       "    .dataframe tbody tr th {\n",
       "        vertical-align: top;\n",
       "    }\n",
       "\n",
       "    .dataframe thead th {\n",
       "        text-align: right;\n",
       "    }\n",
       "</style>\n",
       "<table border=\"1\" class=\"dataframe\">\n",
       "  <thead>\n",
       "    <tr style=\"text-align: right;\">\n",
       "      <th></th>\n",
       "      <th>date</th>\n",
       "      <th>transaction_amount</th>\n",
       "      <th>text</th>\n",
       "    </tr>\n",
       "  </thead>\n",
       "  <tbody>\n",
       "    <tr>\n",
       "      <th>0</th>\n",
       "      <td>2022-06-01</td>\n",
       "      <td>-188.00</td>\n",
       "      <td>BS FITNESS WORLD A/S</td>\n",
       "    </tr>\n",
       "    <tr>\n",
       "      <th>1</th>\n",
       "      <td>2022-06-01</td>\n",
       "      <td>-30.00</td>\n",
       "      <td>DK-NOTA  246 BYGST 407</td>\n",
       "    </tr>\n",
       "    <tr>\n",
       "      <th>2</th>\n",
       "      <td>2022-06-02</td>\n",
       "      <td>-30.00</td>\n",
       "      <td>DK-NOTA  283 COOR KANTINE, 407</td>\n",
       "    </tr>\n",
       "    <tr>\n",
       "      <th>3</th>\n",
       "      <td>2022-06-03</td>\n",
       "      <td>-230.00</td>\n",
       "      <td>DK-NOTAZ0089 CINEMAXX FISKETORV</td>\n",
       "    </tr>\n",
       "    <tr>\n",
       "      <th>4</th>\n",
       "      <td>2022-06-03</td>\n",
       "      <td>-116.93</td>\n",
       "      <td>DK-NOTAZ0174 CINEMAXX FISKETORV</td>\n",
       "    </tr>\n",
       "  </tbody>\n",
       "</table>\n",
       "</div>"
      ],
      "text/plain": [
       "        date  transaction_amount                             text\n",
       "0 2022-06-01             -188.00             BS FITNESS WORLD A/S\n",
       "1 2022-06-01              -30.00           DK-NOTA  246 BYGST 407\n",
       "2 2022-06-02              -30.00   DK-NOTA  283 COOR KANTINE, 407\n",
       "3 2022-06-03             -230.00  DK-NOTAZ0089 CINEMAXX FISKETORV\n",
       "4 2022-06-03             -116.93  DK-NOTAZ0174 CINEMAXX FISKETORV"
      ]
     },
     "execution_count": 85,
     "metadata": {},
     "output_type": "execute_result"
    }
   ],
   "source": [
    "# Converting to date time\n",
    "transactions_df[\"date\"] = pd.to_datetime(transactions_df[\"date\"], dayfirst=True)\n",
    "\n",
    "# Displaying first five rows to check conversion\n",
    "transactions_df.head()"
   ]
  },
  {
   "cell_type": "markdown",
   "metadata": {},
   "source": [
    "Then, I create a column indicating month and year."
   ]
  },
  {
   "cell_type": "code",
   "execution_count": 86,
   "metadata": {},
   "outputs": [
    {
     "data": {
      "text/html": [
       "<div>\n",
       "<style scoped>\n",
       "    .dataframe tbody tr th:only-of-type {\n",
       "        vertical-align: middle;\n",
       "    }\n",
       "\n",
       "    .dataframe tbody tr th {\n",
       "        vertical-align: top;\n",
       "    }\n",
       "\n",
       "    .dataframe thead th {\n",
       "        text-align: right;\n",
       "    }\n",
       "</style>\n",
       "<table border=\"1\" class=\"dataframe\">\n",
       "  <thead>\n",
       "    <tr style=\"text-align: right;\">\n",
       "      <th></th>\n",
       "      <th>date</th>\n",
       "      <th>transaction_amount</th>\n",
       "      <th>text</th>\n",
       "      <th>year</th>\n",
       "      <th>month</th>\n",
       "    </tr>\n",
       "  </thead>\n",
       "  <tbody>\n",
       "    <tr>\n",
       "      <th>0</th>\n",
       "      <td>2022-06-01</td>\n",
       "      <td>-188.00</td>\n",
       "      <td>BS FITNESS WORLD A/S</td>\n",
       "      <td>2022</td>\n",
       "      <td>2022-Jun</td>\n",
       "    </tr>\n",
       "    <tr>\n",
       "      <th>1</th>\n",
       "      <td>2022-06-01</td>\n",
       "      <td>-30.00</td>\n",
       "      <td>DK-NOTA  246 BYGST 407</td>\n",
       "      <td>2022</td>\n",
       "      <td>2022-Jun</td>\n",
       "    </tr>\n",
       "    <tr>\n",
       "      <th>2</th>\n",
       "      <td>2022-06-02</td>\n",
       "      <td>-30.00</td>\n",
       "      <td>DK-NOTA  283 COOR KANTINE, 407</td>\n",
       "      <td>2022</td>\n",
       "      <td>2022-Jun</td>\n",
       "    </tr>\n",
       "    <tr>\n",
       "      <th>3</th>\n",
       "      <td>2022-06-03</td>\n",
       "      <td>-230.00</td>\n",
       "      <td>DK-NOTAZ0089 CINEMAXX FISKETORV</td>\n",
       "      <td>2022</td>\n",
       "      <td>2022-Jun</td>\n",
       "    </tr>\n",
       "    <tr>\n",
       "      <th>4</th>\n",
       "      <td>2022-06-03</td>\n",
       "      <td>-116.93</td>\n",
       "      <td>DK-NOTAZ0174 CINEMAXX FISKETORV</td>\n",
       "      <td>2022</td>\n",
       "      <td>2022-Jun</td>\n",
       "    </tr>\n",
       "  </tbody>\n",
       "</table>\n",
       "</div>"
      ],
      "text/plain": [
       "        date  transaction_amount                             text  year  \\\n",
       "0 2022-06-01             -188.00             BS FITNESS WORLD A/S  2022   \n",
       "1 2022-06-01              -30.00           DK-NOTA  246 BYGST 407  2022   \n",
       "2 2022-06-02              -30.00   DK-NOTA  283 COOR KANTINE, 407  2022   \n",
       "3 2022-06-03             -230.00  DK-NOTAZ0089 CINEMAXX FISKETORV  2022   \n",
       "4 2022-06-03             -116.93  DK-NOTAZ0174 CINEMAXX FISKETORV  2022   \n",
       "\n",
       "      month  \n",
       "0  2022-Jun  \n",
       "1  2022-Jun  \n",
       "2  2022-Jun  \n",
       "3  2022-Jun  \n",
       "4  2022-Jun  "
      ]
     },
     "execution_count": 86,
     "metadata": {},
     "output_type": "execute_result"
    }
   ],
   "source": [
    "# Creating variables\n",
    "transactions_df[\"year\"] = pd.DatetimeIndex(transactions_df['date']).year\n",
    "transactions_df[\"month\"] = transactions_df['date'].dt.strftime('%Y-%b')\n",
    "\n",
    "# Inspecting changes\n",
    "transactions_df.head()"
   ]
  },
  {
   "cell_type": "markdown",
   "metadata": {},
   "source": [
    "Afterwards, I will create a column indicating if a transaction is an expenditure or income."
   ]
  },
  {
   "cell_type": "code",
   "execution_count": 87,
   "metadata": {},
   "outputs": [
    {
     "data": {
      "text/html": [
       "<div>\n",
       "<style scoped>\n",
       "    .dataframe tbody tr th:only-of-type {\n",
       "        vertical-align: middle;\n",
       "    }\n",
       "\n",
       "    .dataframe tbody tr th {\n",
       "        vertical-align: top;\n",
       "    }\n",
       "\n",
       "    .dataframe thead th {\n",
       "        text-align: right;\n",
       "    }\n",
       "</style>\n",
       "<table border=\"1\" class=\"dataframe\">\n",
       "  <thead>\n",
       "    <tr style=\"text-align: right;\">\n",
       "      <th></th>\n",
       "      <th>date</th>\n",
       "      <th>transaction_amount</th>\n",
       "      <th>text</th>\n",
       "      <th>year</th>\n",
       "      <th>month</th>\n",
       "      <th>expenditure</th>\n",
       "    </tr>\n",
       "  </thead>\n",
       "  <tbody>\n",
       "    <tr>\n",
       "      <th>0</th>\n",
       "      <td>2022-06-01</td>\n",
       "      <td>188.00</td>\n",
       "      <td>BS FITNESS WORLD A/S</td>\n",
       "      <td>2022</td>\n",
       "      <td>2022-Jun</td>\n",
       "      <td>1</td>\n",
       "    </tr>\n",
       "    <tr>\n",
       "      <th>1</th>\n",
       "      <td>2022-06-01</td>\n",
       "      <td>30.00</td>\n",
       "      <td>DK-NOTA  246 BYGST 407</td>\n",
       "      <td>2022</td>\n",
       "      <td>2022-Jun</td>\n",
       "      <td>1</td>\n",
       "    </tr>\n",
       "    <tr>\n",
       "      <th>2</th>\n",
       "      <td>2022-06-02</td>\n",
       "      <td>30.00</td>\n",
       "      <td>DK-NOTA  283 COOR KANTINE, 407</td>\n",
       "      <td>2022</td>\n",
       "      <td>2022-Jun</td>\n",
       "      <td>1</td>\n",
       "    </tr>\n",
       "    <tr>\n",
       "      <th>3</th>\n",
       "      <td>2022-06-03</td>\n",
       "      <td>230.00</td>\n",
       "      <td>DK-NOTAZ0089 CINEMAXX FISKETORV</td>\n",
       "      <td>2022</td>\n",
       "      <td>2022-Jun</td>\n",
       "      <td>1</td>\n",
       "    </tr>\n",
       "    <tr>\n",
       "      <th>4</th>\n",
       "      <td>2022-06-03</td>\n",
       "      <td>116.93</td>\n",
       "      <td>DK-NOTAZ0174 CINEMAXX FISKETORV</td>\n",
       "      <td>2022</td>\n",
       "      <td>2022-Jun</td>\n",
       "      <td>1</td>\n",
       "    </tr>\n",
       "  </tbody>\n",
       "</table>\n",
       "</div>"
      ],
      "text/plain": [
       "        date  transaction_amount                             text  year  \\\n",
       "0 2022-06-01              188.00             BS FITNESS WORLD A/S  2022   \n",
       "1 2022-06-01               30.00           DK-NOTA  246 BYGST 407  2022   \n",
       "2 2022-06-02               30.00   DK-NOTA  283 COOR KANTINE, 407  2022   \n",
       "3 2022-06-03              230.00  DK-NOTAZ0089 CINEMAXX FISKETORV  2022   \n",
       "4 2022-06-03              116.93  DK-NOTAZ0174 CINEMAXX FISKETORV  2022   \n",
       "\n",
       "      month  expenditure  \n",
       "0  2022-Jun            1  \n",
       "1  2022-Jun            1  \n",
       "2  2022-Jun            1  \n",
       "3  2022-Jun            1  \n",
       "4  2022-Jun            1  "
      ]
     },
     "execution_count": 87,
     "metadata": {},
     "output_type": "execute_result"
    }
   ],
   "source": [
    "# Creating column with if-else statement\n",
    "transactions_df[\"expenditure\"] = transactions_df[\"transaction_amount\"].apply(lambda x: 1 if x < 0 else 0)\n",
    "transactions_df[\"transaction_amount\"] = transactions_df[\"transaction_amount\"].abs()\n",
    "\n",
    "# Displaying column\n",
    "transactions_df.head()"
   ]
  },
  {
   "cell_type": "markdown",
   "metadata": {},
   "source": [
    "With a column indicating it the transaction is an expense or an income. I can change the transaction_amount so it only contains positive values."
   ]
  },
  {
   "cell_type": "markdown",
   "metadata": {},
   "source": [
    "Lastly, I output the cleaned data set in a seperate folder."
   ]
  },
  {
   "cell_type": "code",
   "execution_count": 88,
   "metadata": {},
   "outputs": [],
   "source": [
    "# Saving data set\n",
    "transactions_df.to_csv(\"../data/clean/transactions_clean.csv\")"
   ]
  }
 ],
 "metadata": {
  "kernelspec": {
   "display_name": ".venv",
   "language": "python",
   "name": "python3"
  },
  "language_info": {
   "codemirror_mode": {
    "name": "ipython",
    "version": 3
   },
   "file_extension": ".py",
   "mimetype": "text/x-python",
   "name": "python",
   "nbconvert_exporter": "python",
   "pygments_lexer": "ipython3",
   "version": "3.12.3"
  }
 },
 "nbformat": 4,
 "nbformat_minor": 2
}
